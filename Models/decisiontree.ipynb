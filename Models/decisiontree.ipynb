{
 "cells": [
  {
   "cell_type": "code",
   "execution_count": 1,
   "metadata": {},
   "outputs": [
    {
     "name": "stdout",
     "output_type": "stream",
     "text": [
      "    Patient_ID  Label       Fp1       Fp2        F3        F4        C3  \\\n",
      "0  v1p_v1p.csv      1  1.642273  1.399319  1.788776  1.385568  1.894291   \n",
      "\n",
      "         C4        P3        P4  ...  occipital_theta_avg_power  \\\n",
      "0  1.719796  1.915635  1.512754  ...                 556.439793   \n",
      "\n",
      "   occipital_alpha_avg_power  occipital_beta_avg_power  \\\n",
      "0                 417.316758                589.752563   \n",
      "\n",
      "   occipital_gamma_avg_power  temporal_delta_avg_power  \\\n",
      "0                 195.140531                  879.2552   \n",
      "\n",
      "   temporal_theta_avg_power  temporal_alpha_avg_power  \\\n",
      "0                580.225853                478.095124   \n",
      "\n",
      "   temporal_beta_avg_power  temporal_gamma_avg_power  \\\n",
      "0               480.728786                 232.60505   \n",
      "\n",
      "   frontal_parietal_theta_ratio  \n",
      "0                      0.983045  \n",
      "\n",
      "[1 rows x 240 columns]\n",
      "(121, 240)\n",
      "Label\n",
      "1    61\n",
      "0    60\n",
      "Name: count, dtype: int64\n"
     ]
    }
   ],
   "source": [
    "import pandas as pd\n",
    "\n",
    "# Load your datasets\n",
    "approx_entropy_df = pd.read_csv('Combined_Entropy.csv')\n",
    "entropy_per_channel_df = pd.read_csv('eeg_entropy_features.csv')\n",
    "frequency_features_df = pd.read_csv('eeg_frequency_features.csv')\n",
    "\n",
    "# Merge all datasets on Patient_ID\n",
    "combined_data = approx_entropy_df.merge(entropy_per_channel_df, on=\"Patient_ID\",how='left')\n",
    "combined_data = combined_data.merge(frequency_features_df, on=\"Patient_ID\",how='left')\n",
    "\n",
    "# Merge with suffixes to keep track of Label columns\n",
    "combined_data = approx_entropy_df.merge(entropy_per_channel_df, on=\"Patient_ID\", how='left', suffixes=('', '_entropy'))\n",
    "combined_data = combined_data.merge(frequency_features_df, on=\"Patient_ID\", how='left', suffixes=('', '_frequency'))\n",
    "\n",
    "# Check if 'Label_entropy' and 'Label_frequency' columns are identical to 'Label'\n",
    "if 'Label_entropy' in combined_data.columns and (combined_data['Label'] == combined_data['Label_entropy']).all():\n",
    "    combined_data = combined_data.drop(columns=['Label_entropy'])\n",
    "if 'Label_frequency' in combined_data.columns and (combined_data['Label'] == combined_data['Label_frequency']).all():\n",
    "    combined_data = combined_data.drop(columns=['Label_frequency'])\n",
    "\n",
    "print(combined_data.head(1))\n",
    "print(combined_data.shape)\n",
    "print(combined_data['Label'].value_counts())\n",
    "\n"
   ]
  },
  {
   "cell_type": "code",
   "execution_count": 2,
   "metadata": {},
   "outputs": [],
   "source": [
    "# Separate features and target label\n",
    "X = combined_data.drop(columns=[\"Patient_ID\", \"Label\"])\n",
    "y = combined_data[\"Label\"]\n"
   ]
  },
  {
   "cell_type": "code",
   "execution_count": 3,
   "metadata": {},
   "outputs": [],
   "source": [
    "from sklearn.model_selection import train_test_split\n",
    "\n",
    "# Split data into training and testing sets (80% train, 20% test)\n",
    "X_train, X_test, y_train, y_test = train_test_split(X, y, test_size=0.2, random_state=42)"
   ]
  },
  {
   "cell_type": "code",
   "execution_count": 4,
   "metadata": {},
   "outputs": [
    {
     "name": "stdout",
     "output_type": "stream",
     "text": [
      "Classification Report:\n",
      "               precision    recall  f1-score   support\n",
      "\n",
      "           0       0.89      0.50      0.64        16\n",
      "           1       0.50      0.89      0.64         9\n",
      "\n",
      "    accuracy                           0.64        25\n",
      "   macro avg       0.69      0.69      0.64        25\n",
      "weighted avg       0.75      0.64      0.64        25\n",
      "\n",
      "Confusion Matrix:\n",
      " [[8 8]\n",
      " [1 8]]\n"
     ]
    }
   ],
   "source": [
    "from sklearn.tree import DecisionTreeClassifier\n",
    "from sklearn.metrics import classification_report, confusion_matrix\n",
    "\n",
    "# Initialize the Decision Tree classifier\n",
    "dt_model = DecisionTreeClassifier(random_state=42)\n",
    "\n",
    "# Train the model\n",
    "dt_model.fit(X_train, y_train)\n",
    "\n",
    "# Make predictions\n",
    "y_pred = dt_model.predict(X_test)\n",
    "\n",
    "# Generate the classification report\n",
    "print(\"Classification Report:\\n\", classification_report(y_test, y_pred))\n",
    "\n",
    "# Optional: Display the confusion matrix\n",
    "print(\"Confusion Matrix:\\n\", confusion_matrix(y_test, y_pred))\n"
   ]
  },
  {
   "cell_type": "code",
   "execution_count": 5,
   "metadata": {},
   "outputs": [
    {
     "name": "stdout",
     "output_type": "stream",
     "text": [
      "Best Parameters: {'max_depth': None, 'min_samples_leaf': 10, 'min_samples_split': 2}\n"
     ]
    }
   ],
   "source": [
    "from sklearn.tree import DecisionTreeClassifier\n",
    "from sklearn.model_selection import GridSearchCV\n",
    "from sklearn.metrics import classification_report, confusion_matrix\n",
    "\n",
    "# Define the parameter grid\n",
    "param_grid = {\n",
    "    'max_depth': [None, 10, 20, 30, 40, 50],\n",
    "    'min_samples_split': [2, 5, 10, 20],\n",
    "    'min_samples_leaf': [1, 2, 5, 10]\n",
    "}\n",
    "\n",
    "# Initialize the Decision Tree classifier\n",
    "dt_model = DecisionTreeClassifier(random_state=42)\n",
    "\n",
    "# Set up GridSearchCV with cross-validation\n",
    "grid_search = GridSearchCV(estimator=dt_model, param_grid=param_grid, cv=5, scoring='accuracy', n_jobs=-1)\n",
    "\n",
    "# Fit the model with grid search\n",
    "grid_search.fit(X_train, y_train)\n",
    "\n",
    "# Get the best parameters and best estimator\n",
    "best_params = grid_search.best_params_\n",
    "best_dt_model = grid_search.best_estimator_\n",
    "\n",
    "print(\"Best Parameters:\", best_params)\n",
    "\n"
   ]
  },
  {
   "cell_type": "code",
   "execution_count": 6,
   "metadata": {},
   "outputs": [
    {
     "name": "stdout",
     "output_type": "stream",
     "text": [
      "Classification Report:\n",
      "               precision    recall  f1-score   support\n",
      "\n",
      "           0       0.78      0.88      0.82        16\n",
      "           1       0.71      0.56      0.62         9\n",
      "\n",
      "    accuracy                           0.76        25\n",
      "   macro avg       0.75      0.72      0.72        25\n",
      "weighted avg       0.75      0.76      0.75        25\n",
      "\n",
      "Confusion Matrix:\n",
      " [[14  2]\n",
      " [ 4  5]]\n"
     ]
    }
   ],
   "source": [
    "# Make predictions with the best model\n",
    "y_pred = best_dt_model.predict(X_test)\n",
    "\n",
    "# Generate the classification report and confusion matrix\n",
    "print(\"Classification Report:\\n\", classification_report(y_test, y_pred))\n",
    "print(\"Confusion Matrix:\\n\", confusion_matrix(y_test, y_pred))\n"
   ]
  }
 ],
 "metadata": {
  "kernelspec": {
   "display_name": "base",
   "language": "python",
   "name": "python3"
  },
  "language_info": {
   "codemirror_mode": {
    "name": "ipython",
    "version": 3
   },
   "file_extension": ".py",
   "mimetype": "text/x-python",
   "name": "python",
   "nbconvert_exporter": "python",
   "pygments_lexer": "ipython3",
   "version": "3.12.3"
  }
 },
 "nbformat": 4,
 "nbformat_minor": 2
}
