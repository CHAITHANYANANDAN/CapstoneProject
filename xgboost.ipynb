{
 "cells": [
  {
   "cell_type": "code",
   "execution_count": 1,
   "metadata": {},
   "outputs": [
    {
     "name": "stdout",
     "output_type": "stream",
     "text": [
      "    Patient_ID  Label       Fp1       Fp2        F3        F4        C3  \\\n",
      "0  v1p_v1p.csv      1  1.642273  1.399319  1.788776  1.385568  1.894291   \n",
      "\n",
      "         C4        P3        P4  ...  occipital_theta_avg_power  \\\n",
      "0  1.719796  1.915635  1.512754  ...                 556.439793   \n",
      "\n",
      "   occipital_alpha_avg_power  occipital_beta_avg_power  \\\n",
      "0                 417.316758                589.752563   \n",
      "\n",
      "   occipital_gamma_avg_power  temporal_delta_avg_power  \\\n",
      "0                 195.140531                  879.2552   \n",
      "\n",
      "   temporal_theta_avg_power  temporal_alpha_avg_power  \\\n",
      "0                580.225853                478.095124   \n",
      "\n",
      "   temporal_beta_avg_power  temporal_gamma_avg_power  \\\n",
      "0               480.728786                 232.60505   \n",
      "\n",
      "   frontal_parietal_theta_ratio  \n",
      "0                      0.983045  \n",
      "\n",
      "[1 rows x 240 columns]\n",
      "(121, 240)\n",
      "Label\n",
      "1    61\n",
      "0    60\n",
      "Name: count, dtype: int64\n"
     ]
    }
   ],
   "source": [
    "import pandas as pd\n",
    "\n",
    "# Load your datasets\n",
    "approx_entropy_df = pd.read_csv('Combined_Entropy.csv')\n",
    "entropy_per_channel_df = pd.read_csv('eeg_entropy_features.csv')\n",
    "frequency_features_df = pd.read_csv('eeg_frequency_features.csv')\n",
    "\n",
    "# Merge all datasets on Patient_ID\n",
    "combined_data = approx_entropy_df.merge(entropy_per_channel_df, on=\"Patient_ID\",how='left')\n",
    "combined_data = combined_data.merge(frequency_features_df, on=\"Patient_ID\",how='left')\n",
    "\n",
    "# Merge with suffixes to keep track of Label columns\n",
    "combined_data = approx_entropy_df.merge(entropy_per_channel_df, on=\"Patient_ID\", how='left', suffixes=('', '_entropy'))\n",
    "combined_data = combined_data.merge(frequency_features_df, on=\"Patient_ID\", how='left', suffixes=('', '_frequency'))\n",
    "\n",
    "# Check if 'Label_entropy' and 'Label_frequency' columns are identical to 'Label'\n",
    "if 'Label_entropy' in combined_data.columns and (combined_data['Label'] == combined_data['Label_entropy']).all():\n",
    "    combined_data = combined_data.drop(columns=['Label_entropy'])\n",
    "if 'Label_frequency' in combined_data.columns and (combined_data['Label'] == combined_data['Label_frequency']).all():\n",
    "    combined_data = combined_data.drop(columns=['Label_frequency'])\n",
    "\n",
    "print(combined_data.head(1))\n",
    "print(combined_data.shape)\n",
    "print(combined_data['Label'].value_counts())\n",
    "\n"
   ]
  },
  {
   "cell_type": "code",
   "execution_count": 2,
   "metadata": {},
   "outputs": [],
   "source": [
    "# Separate features and target label\n",
    "X = combined_data.drop(columns=[\"Patient_ID\", \"Label\"])\n",
    "y = combined_data[\"Label\"]\n"
   ]
  },
  {
   "cell_type": "code",
   "execution_count": 3,
   "metadata": {},
   "outputs": [],
   "source": [
    "from sklearn.model_selection import train_test_split\n",
    "\n",
    "# Split data into training and testing sets (80% train, 20% test)\n",
    "X_train, X_test, y_train, y_test = train_test_split(X, y, test_size=0.2, random_state=42)"
   ]
  },
  {
   "cell_type": "code",
   "execution_count": 4,
   "metadata": {},
   "outputs": [
    {
     "name": "stdout",
     "output_type": "stream",
     "text": [
      "Accuracy: 0.84\n",
      "Classification Report:\n",
      "               precision    recall  f1-score   support\n",
      "\n",
      "           0       0.93      0.81      0.87        16\n",
      "           1       0.73      0.89      0.80         9\n",
      "\n",
      "    accuracy                           0.84        25\n",
      "   macro avg       0.83      0.85      0.83        25\n",
      "weighted avg       0.86      0.84      0.84        25\n",
      "\n",
      "Confusion Matrix:\n",
      " [[13  3]\n",
      " [ 1  8]]\n"
     ]
    }
   ],
   "source": [
    "from xgboost import XGBClassifier\n",
    "from sklearn.metrics import classification_report, confusion_matrix, accuracy_score\n",
    "\n",
    "# Initialize the XGBoost classifier\n",
    "xgb_model = XGBClassifier(random_state=42, use_label_encoder=False, eval_metric='logloss')\n",
    "\n",
    "# Fit the model to the training data\n",
    "xgb_model.fit(X_train, y_train)\n",
    "\n",
    "# Make predictions on the test set\n",
    "y_pred = xgb_model.predict(X_test)\n",
    "\n",
    "# Evaluate the model\n",
    "accuracy = accuracy_score(y_test, y_pred)\n",
    "print(f\"Accuracy: {accuracy:.2f}\")\n",
    "\n",
    "print(\"Classification Report:\\n\", classification_report(y_test, y_pred))\n",
    "print(\"Confusion Matrix:\\n\", confusion_matrix(y_test, y_pred))\n"
   ]
  },
  {
   "cell_type": "code",
   "execution_count": 5,
   "metadata": {},
   "outputs": [
    {
     "name": "stdout",
     "output_type": "stream",
     "text": [
      "Fitting 5 folds for each of 324 candidates, totalling 1620 fits\n",
      "Best Parameters: {'colsample_bytree': 0.8, 'gamma': 0, 'learning_rate': 0.1, 'max_depth': 5, 'n_estimators': 50, 'subsample': 0.8}\n"
     ]
    }
   ],
   "source": [
    "from sklearn.model_selection import GridSearchCV\n",
    "from xgboost import XGBClassifier\n",
    "\n",
    "# Define the parameter grid\n",
    "param_grid = {\n",
    "    'n_estimators': [50, 100, 200],               # Number of boosting rounds\n",
    "    'max_depth': [3, 5, 7],                       # Maximum depth of a tree\n",
    "    'learning_rate': [0.01, 0.1, 0.2],            # Step size shrinkage\n",
    "    'subsample': [0.8, 1.0],                      # Subsample ratio of the training data\n",
    "    'colsample_bytree': [0.8, 1.0],               # Subsample ratio of columns\n",
    "    'gamma': [0, 0.1, 0.2]                        # Minimum loss reduction required for partitioning\n",
    "}\n",
    "\n",
    "# Initialize the XGBoost model\n",
    "xgb = XGBClassifier(random_state=42, use_label_encoder=False, eval_metric='logloss')\n",
    "\n",
    "# Set up GridSearchCV\n",
    "grid_search = GridSearchCV(estimator=xgb, param_grid=param_grid, scoring='accuracy', \n",
    "                           cv=5, verbose=1, n_jobs=-1)\n",
    "\n",
    "# Fit GridSearchCV to find the best hyperparameters\n",
    "grid_search.fit(X_train, y_train)\n",
    "\n",
    "# Retrieve the best model and parameters\n",
    "best_xgb = grid_search.best_estimator_\n",
    "best_params = grid_search.best_params_\n",
    "\n",
    "print(\"Best Parameters:\", best_params)\n",
    "\n"
   ]
  },
  {
   "cell_type": "code",
   "execution_count": 6,
   "metadata": {},
   "outputs": [
    {
     "name": "stdout",
     "output_type": "stream",
     "text": [
      "Accuracy after tuning: 0.88\n",
      "Classification Report:\n",
      "               precision    recall  f1-score   support\n",
      "\n",
      "           0       0.93      0.88      0.90        16\n",
      "           1       0.80      0.89      0.84         9\n",
      "\n",
      "    accuracy                           0.88        25\n",
      "   macro avg       0.87      0.88      0.87        25\n",
      "weighted avg       0.89      0.88      0.88        25\n",
      "\n",
      "Confusion Matrix:\n",
      " [[14  2]\n",
      " [ 1  8]]\n"
     ]
    }
   ],
   "source": [
    "# Make predictions with the best model\n",
    "y_pred_best = best_xgb.predict(X_test)\n",
    "\n",
    "# Evaluate the tuned model\n",
    "from sklearn.metrics import classification_report, accuracy_score, confusion_matrix\n",
    "accuracy = accuracy_score(y_test, y_pred_best)\n",
    "print(f\"Accuracy after tuning: {accuracy:.2f}\")\n",
    "print(\"Classification Report:\\n\", classification_report(y_test, y_pred_best))\n",
    "print(\"Confusion Matrix:\\n\", confusion_matrix(y_test, y_pred_best))\n"
   ]
  }
 ],
 "metadata": {
  "kernelspec": {
   "display_name": "base",
   "language": "python",
   "name": "python3"
  },
  "language_info": {
   "codemirror_mode": {
    "name": "ipython",
    "version": 3
   },
   "file_extension": ".py",
   "mimetype": "text/x-python",
   "name": "python",
   "nbconvert_exporter": "python",
   "pygments_lexer": "ipython3",
   "version": "3.12.3"
  }
 },
 "nbformat": 4,
 "nbformat_minor": 2
}
