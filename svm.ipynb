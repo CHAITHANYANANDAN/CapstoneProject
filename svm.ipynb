{
 "cells": [
  {
   "cell_type": "code",
   "execution_count": 1,
   "metadata": {},
   "outputs": [
    {
     "name": "stdout",
     "output_type": "stream",
     "text": [
      "    Patient_ID  Label_x       Fp1       Fp2        F3        F4        C3  \\\n",
      "0  v1p_v1p.csv        1  1.642273  1.399319  1.788776  1.385568  1.894291   \n",
      "\n",
      "         C4        P3        P4  ...  occipital_theta_avg_power  \\\n",
      "0  1.719796  1.915635  1.512754  ...                 556.439793   \n",
      "\n",
      "   occipital_alpha_avg_power  occipital_beta_avg_power  \\\n",
      "0                 417.316758                589.752563   \n",
      "\n",
      "   occipital_gamma_avg_power  temporal_delta_avg_power  \\\n",
      "0                 195.140531                  879.2552   \n",
      "\n",
      "   temporal_theta_avg_power  temporal_alpha_avg_power  \\\n",
      "0                580.225853                478.095124   \n",
      "\n",
      "   temporal_beta_avg_power  temporal_gamma_avg_power  \\\n",
      "0               480.728786                 232.60505   \n",
      "\n",
      "   frontal_parietal_theta_ratio  \n",
      "0                      0.983045  \n",
      "\n",
      "[1 rows x 242 columns]\n",
      "(121, 242)\n",
      "Label\n",
      "1    61\n",
      "0    60\n",
      "Name: count, dtype: int64\n"
     ]
    }
   ],
   "source": [
    "import pandas as pd\n",
    "\n",
    "# Load your datasets\n",
    "approx_entropy_df = pd.read_csv('Combined_Entropy.csv')\n",
    "entropy_per_channel_df = pd.read_csv('eeg_entropy_features.csv')\n",
    "frequency_features_df = pd.read_csv('eeg_frequency_features.csv')\n",
    "\n",
    "# Merge all datasets on Patient_ID\n",
    "combined_data = approx_entropy_df.merge(entropy_per_channel_df, on=\"Patient_ID\",how='left')\n",
    "combined_data = combined_data.merge(frequency_features_df, on=\"Patient_ID\",how='left')\n",
    "\n",
    "print(combined_data.head(1))\n",
    "print(combined_data.shape)\n",
    "print(combined_data['Label'].value_counts())\n"
   ]
  },
  {
   "cell_type": "code",
   "execution_count": 2,
   "metadata": {},
   "outputs": [
    {
     "name": "stdout",
     "output_type": "stream",
     "text": [
      "    Patient_ID  Label       Fp1       Fp2        F3        F4        C3  \\\n",
      "0  v1p_v1p.csv      1  1.642273  1.399319  1.788776  1.385568  1.894291   \n",
      "\n",
      "         C4        P3        P4  ...  occipital_theta_avg_power  \\\n",
      "0  1.719796  1.915635  1.512754  ...                 556.439793   \n",
      "\n",
      "   occipital_alpha_avg_power  occipital_beta_avg_power  \\\n",
      "0                 417.316758                589.752563   \n",
      "\n",
      "   occipital_gamma_avg_power  temporal_delta_avg_power  \\\n",
      "0                 195.140531                  879.2552   \n",
      "\n",
      "   temporal_theta_avg_power  temporal_alpha_avg_power  \\\n",
      "0                580.225853                478.095124   \n",
      "\n",
      "   temporal_beta_avg_power  temporal_gamma_avg_power  \\\n",
      "0               480.728786                 232.60505   \n",
      "\n",
      "   frontal_parietal_theta_ratio  \n",
      "0                      0.983045  \n",
      "\n",
      "[1 rows x 240 columns]\n",
      "(121, 240)\n",
      "Label\n",
      "1    61\n",
      "0    60\n",
      "Name: count, dtype: int64\n"
     ]
    }
   ],
   "source": [
    "# Merge with suffixes to keep track of Label columns\n",
    "combined_data = approx_entropy_df.merge(entropy_per_channel_df, on=\"Patient_ID\", how='left', suffixes=('', '_entropy'))\n",
    "combined_data = combined_data.merge(frequency_features_df, on=\"Patient_ID\", how='left', suffixes=('', '_frequency'))\n",
    "\n",
    "# Check if 'Label_entropy' and 'Label_frequency' columns are identical to 'Label'\n",
    "if 'Label_entropy' in combined_data.columns and (combined_data['Label'] == combined_data['Label_entropy']).all():\n",
    "    combined_data = combined_data.drop(columns=['Label_entropy'])\n",
    "if 'Label_frequency' in combined_data.columns and (combined_data['Label'] == combined_data['Label_frequency']).all():\n",
    "    combined_data = combined_data.drop(columns=['Label_frequency'])\n",
    "\n",
    "print(combined_data.head(1))\n",
    "print(combined_data.shape)\n",
    "print(combined_data['Label'].value_counts())\n"
   ]
  },
  {
   "cell_type": "code",
   "execution_count": 3,
   "metadata": {},
   "outputs": [],
   "source": [
    "# Separate features and target label\n",
    "X = combined_data.drop(columns=[\"Patient_ID\", \"Label\"])\n",
    "y = combined_data[\"Label\"]\n"
   ]
  },
  {
   "cell_type": "code",
   "execution_count": 14,
   "metadata": {},
   "outputs": [
    {
     "name": "stdout",
     "output_type": "stream",
     "text": [
      "Accuracy: 0.8\n",
      "\n",
      "Classification Report:\n",
      "               precision    recall  f1-score   support\n",
      "\n",
      "           0       0.87      0.81      0.84        16\n",
      "           1       0.70      0.78      0.74         9\n",
      "\n",
      "    accuracy                           0.80        25\n",
      "   macro avg       0.78      0.80      0.79        25\n",
      "weighted avg       0.81      0.80      0.80        25\n",
      "\n"
     ]
    },
    {
     "data": {
      "text/plain": [
       "<sklearn.metrics._plot.confusion_matrix.ConfusionMatrixDisplay at 0x1fe5c61e480>"
      ]
     },
     "execution_count": 14,
     "metadata": {},
     "output_type": "execute_result"
    },
    {
     "data": {
      "image/png": "[encoded data removed]",
      "text/plain": [
       "<Figure size 640x480 with 2 Axes>"
      ]
     },
     "metadata": {},
     "output_type": "display_data"
    }
   ],
   "source": [
    "from sklearn.svm import SVC\n",
    "from sklearn.model_selection import train_test_split\n",
    "from sklearn.metrics import classification_report, accuracy_score, ConfusionMatrixDisplay\n",
    "X_train, X_test, y_train, y_test = train_test_split(X, y, test_size=0.2, random_state=42)\n",
    "svm_model = SVC(kernel='linear', C=1, random_state=42)  # You can experiment with different kernels (e.g., 'rbf')\n",
    "\n",
    "svm_model.fit(X_train, y_train)\n",
    "\n",
    "# Make predictions\n",
    "y_pred = svm_model.predict(X_test)\n",
    "\n",
    "# Evaluate the model\n",
    "accuracy = accuracy_score(y_test, y_pred)\n",
    "print(\"Accuracy:\", accuracy)\n",
    "print(\"\\nClassification Report:\\n\", classification_report(y_test, y_pred))\n",
    "\n",
    "# Confusion Matrix\n",
    "ConfusionMatrixDisplay.from_estimator(svm_model, X_test, y_test)"
   ]
  },
  {
   "cell_type": "code",
   "execution_count": 15,
   "metadata": {},
   "outputs": [],
   "source": [
    "from sklearn.model_selection import train_test_split, GridSearchCV\n",
    "# Define the parameter grid\n",
    "param_grid = {\n",
    "    'C': [0.1, 1, 10, 100],  # Regularization parameter\n",
    "    'kernel': ['linear', 'rbf', 'poly'],  # Kernel types\n",
    "    'gamma': ['scale', 'auto']  # Kernel coefficient for 'rbf' and 'poly' kernels\n",
    "}"
   ]
  },
  {
   "cell_type": "code",
   "execution_count": 18,
   "metadata": {},
   "outputs": [],
   "source": [
    "from sklearn.preprocessing import StandardScaler\n",
    "scaler = StandardScaler()\n",
    "X_train = scaler.fit_transform(X_train)\n",
    "X_test = scaler.transform(X_test)"
   ]
  },
  {
   "cell_type": "code",
   "execution_count": 19,
   "metadata": {},
   "outputs": [
    {
     "name": "stdout",
     "output_type": "stream",
     "text": [
      "Fitting 5 folds for each of 24 candidates, totalling 120 fits\n",
      "Best Parameters: {'C': 10, 'gamma': 'scale', 'kernel': 'rbf'}\n",
      "Best Cross-Validation Score: 0.761578947368421\n"
     ]
    }
   ],
   "source": [
    "svm = SVC(random_state=42)\n",
    "grid_search = GridSearchCV(svm, param_grid, cv=5, scoring='accuracy', n_jobs=-1, verbose=2)\n",
    "\n",
    "# Perform grid search\n",
    "grid_search.fit(X_train, y_train)\n",
    "\n",
    "# Print the best parameters and best score\n",
    "print(\"Best Parameters:\", grid_search.best_params_)\n",
    "print(\"Best Cross-Validation Score:\", grid_search.best_score_)\n",
    "\n"
   ]
  },
  {
   "cell_type": "code",
   "execution_count": 20,
   "metadata": {},
   "outputs": [
    {
     "name": "stdout",
     "output_type": "stream",
     "text": [
      "Accuracy on Test Data: 0.76\n",
      "\n",
      "Classification Report:\n",
      "               precision    recall  f1-score   support\n",
      "\n",
      "           0       0.86      0.75      0.80        16\n",
      "           1       0.64      0.78      0.70         9\n",
      "\n",
      "    accuracy                           0.76        25\n",
      "   macro avg       0.75      0.76      0.75        25\n",
      "weighted avg       0.78      0.76      0.76        25\n",
      "\n"
     ]
    },
    {
     "data": {
      "text/plain": [
       "<sklearn.metrics._plot.confusion_matrix.ConfusionMatrixDisplay at 0x1fe5e9c5790>"
      ]
     },
     "execution_count": 20,
     "metadata": {},
     "output_type": "execute_result"
    },
    {
     "data": {
      "image/png": "[encoded data removed]",
      "text/plain": [
       "<Figure size 640x480 with 2 Axes>"
      ]
     },
     "metadata": {},
     "output_type": "display_data"
    }
   ],
   "source": [
    "# Train SVM with best parameters\n",
    "best_svm = grid_search.best_estimator_\n",
    "best_svm.fit(X_train, y_train)\n",
    "\n",
    "# Make predictions\n",
    "y_pred = best_svm.predict(X_test)\n",
    "\n",
    "# Evaluate the model\n",
    "accuracy = accuracy_score(y_test, y_pred)\n",
    "print(\"Accuracy on Test Data:\", accuracy)\n",
    "print(\"\\nClassification Report:\\n\", classification_report(y_test, y_pred))\n",
    "\n",
    "# Confusion Matrix\n",
    "ConfusionMatrixDisplay.from_estimator(best_svm, X_test, y_test)"
   ]
  },
  {
   "cell_type": "code",
   "execution_count": 21,
   "metadata": {},
   "outputs": [
    {
     "name": "stdout",
     "output_type": "stream",
     "text": [
      "Polynomial Kernel Accuracy: 0.64\n"
     ]
    }
   ],
   "source": [
    "from sklearn.svm import SVC\n",
    "poly_svm = SVC(kernel='poly', degree=3)  # You can experiment with different degrees\n",
    "poly_svm.fit(X_train, y_train)\n",
    "poly_accuracy = poly_svm.score(X_test, y_test)\n",
    "print(\"Polynomial Kernel Accuracy:\", poly_accuracy)\n"
   ]
  },
  {
   "cell_type": "code",
   "execution_count": 27,
   "metadata": {},
   "outputs": [
    {
     "name": "stdout",
     "output_type": "stream",
     "text": [
      "Classification Report:\n",
      "               precision    recall  f1-score   support\n",
      "\n",
      "           0       0.87      0.81      0.84        16\n",
      "           1       0.70      0.78      0.74         9\n",
      "\n",
      "    accuracy                           0.80        25\n",
      "   macro avg       0.78      0.80      0.79        25\n",
      "weighted avg       0.81      0.80      0.80        25\n",
      "\n",
      "Confusion Matrix:\n",
      " [[13  3]\n",
      " [ 2  7]]\n"
     ]
    }
   ],
   "source": [
    "from sklearn.svm import SVC\n",
    "from sklearn.metrics import classification_report, confusion_matrix\n",
    "\n",
    "# Initialize the SVM classifier with RBF kernel\n",
    "svm_rbf = SVC(kernel='rbf', random_state=42)\n",
    "\n",
    "# Train the model\n",
    "svm_rbf.fit(X_train, y_train)\n",
    "\n",
    "# Make predictions\n",
    "y_pred = svm_rbf.predict(X_test)\n",
    "\n",
    "# Generate the classification report\n",
    "print(\"Classification Report:\\n\", classification_report(y_test, y_pred))\n",
    "\n",
    "# Optional: Display the confusion matrix\n",
    "print(\"Confusion Matrix:\\n\", confusion_matrix(y_test, y_pred))\n"
   ]
  },
  {
   "cell_type": "code",
   "execution_count": 28,
   "metadata": {},
   "outputs": [
    {
     "name": "stdout",
     "output_type": "stream",
     "text": [
      "Classification Report:\n",
      "               precision    recall  f1-score   support\n",
      "\n",
      "           0       0.87      0.81      0.84        16\n",
      "           1       0.70      0.78      0.74         9\n",
      "\n",
      "    accuracy                           0.80        25\n",
      "   macro avg       0.78      0.80      0.79        25\n",
      "weighted avg       0.81      0.80      0.80        25\n",
      "\n",
      "Confusion Matrix:\n",
      " [[13  3]\n",
      " [ 2  7]]\n"
     ]
    }
   ],
   "source": [
    "from sklearn.svm import SVC\n",
    "from sklearn.metrics import classification_report, confusion_matrix\n",
    "\n",
    "# Initialize the SVM classifier with RBF kernel\n",
    "svm_rbf = SVC(kernel='sigmoid', random_state=42)\n",
    "\n",
    "# Train the model\n",
    "svm_rbf.fit(X_train, y_train)\n",
    "\n",
    "# Make predictions\n",
    "y_pred = svm_rbf.predict(X_test)\n",
    "\n",
    "# Generate the classification report\n",
    "print(\"Classification Report:\\n\", classification_report(y_test, y_pred))\n",
    "\n",
    "# Optional: Display the confusion matrix\n",
    "print(\"Confusion Matrix:\\n\", confusion_matrix(y_test, y_pred))\n"
   ]
  }
 ],
 "metadata": {
  "kernelspec": {
   "display_name": "base",
   "language": "python",
   "name": "python3"
  },
  "language_info": {
   "codemirror_mode": {
    "name": "ipython",
    "version": 3
   },
   "file_extension": ".py",
   "mimetype": "text/x-python",
   "name": "python",
   "nbconvert_exporter": "python",
   "pygments_lexer": "ipython3",
   "version": "3.12.3"
  }
 },
 "nbformat": 4,
 "nbformat_minor": 2
}
