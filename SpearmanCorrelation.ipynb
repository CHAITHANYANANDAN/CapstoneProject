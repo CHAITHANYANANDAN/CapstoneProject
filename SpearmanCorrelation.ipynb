{
 "cells": [
  {
   "cell_type": "code",
   "execution_count": 1,
   "metadata": {},
   "outputs": [],
   "source": [
    "import pandas as pd\n",
    "import seaborn as sns\n",
    "import matplotlib.pyplot as plt\n",
    "import os\n",
    "\n",
    "# Define the corrected order of EEG electrode labels\n",
    "corrected_electrode_order = ['Fp1', 'Fp2', 'F3', 'F4', 'C3', 'C4', 'P3', 'P4', 'O1', 'O2', \n",
    "                             'F7', 'F8', 'T3', 'T4', 'T5', 'T6', 'Fz', 'Cz', 'Pz']\n",
    "\n",
    "def calculate_spearman_correlation(preprocessed_file):\n",
    "    df = pd.read_csv(preprocessed_file)\n",
    "    grouped = df.groupby('Patient_ID')\n",
    "    spearman_results = {}\n",
    "\n",
    "    for patient_id, group in grouped:\n",
    "        # Filter only the EEG columns in the corrected order\n",
    "        eeg_data = group[corrected_electrode_order]\n",
    "        spearman_corr = eeg_data.corr(method='spearman')\n",
    "        spearman_results[patient_id] = spearman_corr\n",
    "    \n",
    "    return spearman_results\n",
    "\n",
    "def plot_spearman_heatmap(spearman_results, output_dir):\n",
    "    os.makedirs(output_dir, exist_ok=True)\n",
    "    \n",
    "    for patient_id, corr_matrix in spearman_results.items():\n",
    "        plt.figure(figsize=(12, 10))\n",
    "        sns.heatmap(corr_matrix, annot=True, cmap='coolwarm', square=True, \n",
    "                    cbar_kws={\"shrink\": .8}, linewidths=0.5, fmt=\".2f\")\n",
    "        plt.title(f'Spearman Correlation Heatmap for Patient ID: {patient_id}', fontsize=16)\n",
    "        plt.xlabel('EEG Channels', fontsize=14)\n",
    "        plt.ylabel('EEG Channels', fontsize=14)\n",
    "        plt.xticks(rotation=45)\n",
    "        plt.yticks(rotation=45)\n",
    "        plt.tight_layout()\n",
    "        \n",
    "        plt.savefig(os.path.join(output_dir, f'spearman_heatmap_patient_{patient_id}.png'))\n",
    "        plt.close()\n",
    "\n"
   ]
  },
  {
   "cell_type": "code",
   "execution_count": 2,
   "metadata": {},
   "outputs": [],
   "source": [
    "# Example usage\n",
    "preprocessed_file = 'preprocessed_eeg_data.csv'  # Update this to your preprocessed CSV file path\n",
    "output_dir = 'Spearman'  # Update this to your desired output directory\n",
    "os.makedirs(output_dir, exist_ok=True)  # Create output directory if it doesn't exist\n",
    "spearman_results = calculate_spearman_correlation(preprocessed_file)\n",
    "plot_spearman_heatmap(spearman_results, output_dir)\n"
   ]
  }
 ],
 "metadata": {
  "kernelspec": {
   "display_name": "base",
   "language": "python",
   "name": "python3"
  },
  "language_info": {
   "codemirror_mode": {
    "name": "ipython",
    "version": 3
   },
   "file_extension": ".py",
   "mimetype": "text/x-python",
   "name": "python",
   "nbconvert_exporter": "python",
   "pygments_lexer": "ipython3",
   "version": "3.12.3"
  }
 },
 "nbformat": 4,
 "nbformat_minor": 2
}
