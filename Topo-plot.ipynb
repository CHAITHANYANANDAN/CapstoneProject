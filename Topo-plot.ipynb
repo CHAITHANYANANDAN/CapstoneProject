{
 "cells": [
  {
   "cell_type": "code",
   "execution_count": 3,
   "metadata": {},
   "outputs": [],
   "source": [
    "import pandas as pd\n",
    "import mne\n",
    "import numpy as np\n",
    "import os\n",
    "import matplotlib.pyplot as plt\n",
    "\n",
    "# Define the montage for the 19 EEG channels based on the 10-20 system\n",
    "montage = mne.channels.make_standard_montage('standard_1020')\n",
    "\n",
    "# Function to create topo-plot for each patient\n",
    "def plot_topo_for_patient(patient_data, patient_id, output_directory):\n",
    "    \n",
    "    # EEG channels in the order corresponding to the 10-20 system\n",
    "    eeg_channels = ['Fp1', 'Fp2', 'F3', 'F4', 'C3', 'C4', 'P3', 'P4', 'O1', 'O2',\n",
    "                    'F7', 'F8', 'T3', 'T4', 'T5', 'T6', 'Fz', 'Cz', 'Pz']\n",
    "\n",
    "    # Extract the Approximate Entropy values for the channels\n",
    "    entropy_values = patient_data[eeg_channels].values.flatten()\n",
    "\n",
    "    # Create an MNE info object with EEG channel names and sampling rate (dummy rate here)\n",
    "    info = mne.create_info(ch_names=eeg_channels, sfreq=128, ch_types='eeg')\n",
    "\n",
    "    # Create an EvokedArray object (though we only use the data to plot the topo-plot)\n",
    "    evoked = mne.EvokedArray(entropy_values[:, np.newaxis], info)\n",
    "\n",
    "    # Set the montage (channel positions)\n",
    "    evoked.set_montage(montage)\n",
    "\n",
    "    # Plot the topographic map\n",
    "    plt.figure(figsize=(12, 10))\n",
    "    mne.viz.plot_topomap(entropy_values, evoked.info, show=False, cmap='viridis', contours=0)\n",
    "    plt.title(f'Topographic Plot for Patient: {patient_id}')\n",
    "    \n",
    "    # Save the plot to the output directory\n",
    "    output_file = os.path.join(output_directory, f'topo_plot_patient_{patient_id}.png')\n",
    "    plt.savefig(output_file)\n",
    "    plt.close()\n",
    "    print(f\"Topo-plot saved for patient {patient_id} at {output_file}\")\n",
    "\n",
    "# Function to plot topo-plots for all patients\n",
    "def plot_topo_for_all_patients(combined_entropy_file, output_directory):\n",
    "    \n",
    "    # Load the combined Approximate Entropy data with class labels\n",
    "    df = pd.read_csv(combined_entropy_file)\n",
    "    \n",
    "    # Ensure the output directory exists\n",
    "    os.makedirs(output_directory, exist_ok=True)\n",
    "    \n",
    "    # Loop through each patient in the data\n",
    "    for _, patient_data in df.iterrows():\n",
    "        patient_id = patient_data['Patient_ID']\n",
    "        \n",
    "        # Plot the topo-plot for the patient\n",
    "        plot_topo_for_patient(patient_data, patient_id, output_directory)\n",
    "\n"
   ]
  },
  {
   "cell_type": "code",
   "execution_count": 4,
   "metadata": {},
   "outputs": [
    {
     "name": "stdout",
     "output_type": "stream",
     "text": [
      "Topo-plot saved for patient v107_v107.csv at TopoPlots\\topo_plot_patient_v107_v107.csv.png\n",
      "Topo-plot saved for patient v108_v108.csv at TopoPlots\\topo_plot_patient_v108_v108.csv.png\n",
      "Topo-plot saved for patient v109_v109.csv at TopoPlots\\topo_plot_patient_v109_v109.csv.png\n",
      "Topo-plot saved for patient v10p_v10p.csv at TopoPlots\\topo_plot_patient_v10p_v10p.csv.png\n",
      "Topo-plot saved for patient v110_v110.csv at TopoPlots\\topo_plot_patient_v110_v110.csv.png\n",
      "Topo-plot saved for patient v111_v111.csv at TopoPlots\\topo_plot_patient_v111_v111.csv.png\n",
      "Topo-plot saved for patient v112_v112.csv at TopoPlots\\topo_plot_patient_v112_v112.csv.png\n",
      "Topo-plot saved for patient v113_v113.csv at TopoPlots\\topo_plot_patient_v113_v113.csv.png\n",
      "Topo-plot saved for patient v114_v114.csv at TopoPlots\\topo_plot_patient_v114_v114.csv.png\n",
      "Topo-plot saved for patient v115_v115.csv at TopoPlots\\topo_plot_patient_v115_v115.csv.png\n",
      "Topo-plot saved for patient v116_v116.csv at TopoPlots\\topo_plot_patient_v116_v116.csv.png\n",
      "Topo-plot saved for patient v117_v117.csv at TopoPlots\\topo_plot_patient_v117_v117.csv.png\n",
      "Topo-plot saved for patient v118_v118.csv at TopoPlots\\topo_plot_patient_v118_v118.csv.png\n",
      "Topo-plot saved for patient v120_v120.csv at TopoPlots\\topo_plot_patient_v120_v120.csv.png\n",
      "Topo-plot saved for patient v121_v121.csv at TopoPlots\\topo_plot_patient_v121_v121.csv.png\n",
      "Topo-plot saved for patient v123_v123.csv at TopoPlots\\topo_plot_patient_v123_v123.csv.png\n",
      "Topo-plot saved for patient v125_v125.csv at TopoPlots\\topo_plot_patient_v125_v125.csv.png\n",
      "Topo-plot saved for patient v127_v127.csv at TopoPlots\\topo_plot_patient_v127_v127.csv.png\n",
      "Topo-plot saved for patient v129_v129.csv at TopoPlots\\topo_plot_patient_v129_v129.csv.png\n",
      "Topo-plot saved for patient v12p_v12p.csv at TopoPlots\\topo_plot_patient_v12p_v12p.csv.png\n"
     ]
    },
    {
     "name": "stderr",
     "output_type": "stream",
     "text": [
      "c:\\Users\\smrit\\miniconda3\\Lib\\site-packages\\mne\\viz\\topomap.py:1013: RuntimeWarning: More than 20 figures have been opened. Figures created through the pyplot interface (`matplotlib.pyplot.figure`) are retained until explicitly closed and may consume too much memory. (To control this warning, see the rcParam `figure.max_open_warning`). Consider using `matplotlib.pyplot.close()`.\n",
      "  _, axes = plt.subplots(figsize=(size, size), layout=\"constrained\")\n",
      "C:\\Users\\smrit\\AppData\\Local\\Temp\\ipykernel_12168\\3142382689.py:30: RuntimeWarning: More than 20 figures have been opened. Figures created through the pyplot interface (`matplotlib.pyplot.figure`) are retained until explicitly closed and may consume too much memory. (To control this warning, see the rcParam `figure.max_open_warning`). Consider using `matplotlib.pyplot.close()`.\n",
      "  plt.figure(figsize=(12, 10))\n"
     ]
    },
    {
     "name": "stdout",
     "output_type": "stream",
     "text": [
      "Topo-plot saved for patient v131_v131.csv at TopoPlots\\topo_plot_patient_v131_v131.csv.png\n",
      "Topo-plot saved for patient v133_v133.csv at TopoPlots\\topo_plot_patient_v133_v133.csv.png\n",
      "Topo-plot saved for patient v134_v134.csv at TopoPlots\\topo_plot_patient_v134_v134.csv.png\n",
      "Topo-plot saved for patient v138_v138.csv at TopoPlots\\topo_plot_patient_v138_v138.csv.png\n",
      "Topo-plot saved for patient v140_v140.csv at TopoPlots\\topo_plot_patient_v140_v140.csv.png\n",
      "Topo-plot saved for patient v143_v143.csv at TopoPlots\\topo_plot_patient_v143_v143.csv.png\n",
      "Topo-plot saved for patient v147_v147.csv at TopoPlots\\topo_plot_patient_v147_v147.csv.png\n",
      "Topo-plot saved for patient v149_v149.csv at TopoPlots\\topo_plot_patient_v149_v149.csv.png\n",
      "Topo-plot saved for patient v14p_v14p.csv at TopoPlots\\topo_plot_patient_v14p_v14p.csv.png\n",
      "Topo-plot saved for patient v151_v151.csv at TopoPlots\\topo_plot_patient_v151_v151.csv.png\n",
      "Topo-plot saved for patient v15p_v15p.csv at TopoPlots\\topo_plot_patient_v15p_v15p.csv.png\n",
      "Topo-plot saved for patient v173_v173.csv at TopoPlots\\topo_plot_patient_v173_v173.csv.png\n",
      "Topo-plot saved for patient v177_v177.csv at TopoPlots\\topo_plot_patient_v177_v177.csv.png\n",
      "Topo-plot saved for patient v179_v179.csv at TopoPlots\\topo_plot_patient_v179_v179.csv.png\n",
      "Topo-plot saved for patient v181_v181.csv at TopoPlots\\topo_plot_patient_v181_v181.csv.png\n",
      "Topo-plot saved for patient v183_v183.csv at TopoPlots\\topo_plot_patient_v183_v183.csv.png\n",
      "Topo-plot saved for patient v18p_v18p.csv at TopoPlots\\topo_plot_patient_v18p_v18p.csv.png\n",
      "Topo-plot saved for patient v190_v190.csv at TopoPlots\\topo_plot_patient_v190_v190.csv.png\n",
      "Topo-plot saved for patient v196_v196.csv at TopoPlots\\topo_plot_patient_v196_v196.csv.png\n",
      "Topo-plot saved for patient v198_v198.csv at TopoPlots\\topo_plot_patient_v198_v198.csv.png\n",
      "Topo-plot saved for patient v19p_v19p.csv at TopoPlots\\topo_plot_patient_v19p_v19p.csv.png\n",
      "Topo-plot saved for patient v1p_v1p.csv at TopoPlots\\topo_plot_patient_v1p_v1p.csv.png\n",
      "Topo-plot saved for patient v200_v200.csv at TopoPlots\\topo_plot_patient_v200_v200.csv.png\n",
      "Topo-plot saved for patient v204_v204.csv at TopoPlots\\topo_plot_patient_v204_v204.csv.png\n",
      "Topo-plot saved for patient v206_v206.csv at TopoPlots\\topo_plot_patient_v206_v206.csv.png\n",
      "Topo-plot saved for patient v209_v209.csv at TopoPlots\\topo_plot_patient_v209_v209.csv.png\n",
      "Topo-plot saved for patient v20p_v20p.csv at TopoPlots\\topo_plot_patient_v20p_v20p.csv.png\n",
      "Topo-plot saved for patient v213_v213.csv at TopoPlots\\topo_plot_patient_v213_v213.csv.png\n",
      "Topo-plot saved for patient v215_v215.csv at TopoPlots\\topo_plot_patient_v215_v215.csv.png\n",
      "Topo-plot saved for patient v219_v219.csv at TopoPlots\\topo_plot_patient_v219_v219.csv.png\n",
      "Topo-plot saved for patient v21p_v21p.csv at TopoPlots\\topo_plot_patient_v21p_v21p.csv.png\n",
      "Topo-plot saved for patient v227_v227.csv at TopoPlots\\topo_plot_patient_v227_v227.csv.png\n",
      "Topo-plot saved for patient v22p_v22p.csv at TopoPlots\\topo_plot_patient_v22p_v22p.csv.png\n",
      "Topo-plot saved for patient v231_v231.csv at TopoPlots\\topo_plot_patient_v231_v231.csv.png\n",
      "Topo-plot saved for patient v234_v234.csv at TopoPlots\\topo_plot_patient_v234_v234.csv.png\n",
      "Topo-plot saved for patient v236_v236.csv at TopoPlots\\topo_plot_patient_v236_v236.csv.png\n",
      "Topo-plot saved for patient v238_v238.csv at TopoPlots\\topo_plot_patient_v238_v238.csv.png\n",
      "Topo-plot saved for patient v244_v244.csv at TopoPlots\\topo_plot_patient_v244_v244.csv.png\n",
      "Topo-plot saved for patient v246_v246.csv at TopoPlots\\topo_plot_patient_v246_v246.csv.png\n",
      "Topo-plot saved for patient v24p_v24p.csv at TopoPlots\\topo_plot_patient_v24p_v24p.csv.png\n",
      "Topo-plot saved for patient v250_v250.csv at TopoPlots\\topo_plot_patient_v250_v250.csv.png\n",
      "Topo-plot saved for patient v254_v254.csv at TopoPlots\\topo_plot_patient_v254_v254.csv.png\n",
      "Topo-plot saved for patient v25p_v25p.csv at TopoPlots\\topo_plot_patient_v25p_v25p.csv.png\n",
      "Topo-plot saved for patient v263_v263 at TopoPlots\\topo_plot_patient_v263_v263.png\n",
      "Topo-plot saved for patient v265_v265 at TopoPlots\\topo_plot_patient_v265_v265.png\n",
      "Topo-plot saved for patient v270_v270 at TopoPlots\\topo_plot_patient_v270_v270.png\n",
      "Topo-plot saved for patient v274_v274 at TopoPlots\\topo_plot_patient_v274_v274.png\n",
      "Topo-plot saved for patient v279_v279 at TopoPlots\\topo_plot_patient_v279_v279.png\n",
      "Topo-plot saved for patient v27p_v27p at TopoPlots\\topo_plot_patient_v27p_v27p.png\n",
      "Topo-plot saved for patient v284_v284 at TopoPlots\\topo_plot_patient_v284_v284.png\n",
      "Topo-plot saved for patient v286_v286 at TopoPlots\\topo_plot_patient_v286_v286.png\n",
      "Topo-plot saved for patient v288_v288 at TopoPlots\\topo_plot_patient_v288_v288.png\n",
      "Topo-plot saved for patient v28p_v28p at TopoPlots\\topo_plot_patient_v28p_v28p.png\n",
      "Topo-plot saved for patient v297_v297 at TopoPlots\\topo_plot_patient_v297_v297.png\n",
      "Topo-plot saved for patient v298_v298 at TopoPlots\\topo_plot_patient_v298_v298.png\n",
      "Topo-plot saved for patient v299_v299 at TopoPlots\\topo_plot_patient_v299_v299.png\n",
      "Topo-plot saved for patient v29p_v29p at TopoPlots\\topo_plot_patient_v29p_v29p.png\n",
      "Topo-plot saved for patient v300_v300 at TopoPlots\\topo_plot_patient_v300_v300.png\n",
      "Topo-plot saved for patient v302_v302 at TopoPlots\\topo_plot_patient_v302_v302.png\n",
      "Topo-plot saved for patient v303_v303 at TopoPlots\\topo_plot_patient_v303_v303.png\n",
      "Topo-plot saved for patient v304_v304 at TopoPlots\\topo_plot_patient_v304_v304.png\n",
      "Topo-plot saved for patient v305_v305 at TopoPlots\\topo_plot_patient_v305_v305.png\n",
      "Topo-plot saved for patient v306_v306 at TopoPlots\\topo_plot_patient_v306_v306.png\n",
      "Topo-plot saved for patient v307_v307 at TopoPlots\\topo_plot_patient_v307_v307.png\n",
      "Topo-plot saved for patient v308_v308 at TopoPlots\\topo_plot_patient_v308_v308.png\n",
      "Topo-plot saved for patient v309_v309 at TopoPlots\\topo_plot_patient_v309_v309.png\n",
      "Topo-plot saved for patient v30p_v30p at TopoPlots\\topo_plot_patient_v30p_v30p.png\n",
      "Topo-plot saved for patient v310_v310 at TopoPlots\\topo_plot_patient_v310_v310.png\n",
      "Topo-plot saved for patient v31p_v31p at TopoPlots\\topo_plot_patient_v31p_v31p.png\n",
      "Topo-plot saved for patient v32p_v32p at TopoPlots\\topo_plot_patient_v32p_v32p.png\n",
      "Topo-plot saved for patient v33p_v33p at TopoPlots\\topo_plot_patient_v33p_v33p.png\n",
      "Topo-plot saved for patient v34p_v34p at TopoPlots\\topo_plot_patient_v34p_v34p.png\n",
      "Topo-plot saved for patient v35p_v35p at TopoPlots\\topo_plot_patient_v35p_v35p.png\n",
      "Topo-plot saved for patient v36p_v36p at TopoPlots\\topo_plot_patient_v36p_v36p.png\n",
      "Topo-plot saved for patient v37p_v37p at TopoPlots\\topo_plot_patient_v37p_v37p.png\n",
      "Topo-plot saved for patient v38p_v38p at TopoPlots\\topo_plot_patient_v38p_v38p.png\n",
      "Topo-plot saved for patient v39p_v39p at TopoPlots\\topo_plot_patient_v39p_v39p.png\n",
      "Topo-plot saved for patient v3p_v3p at TopoPlots\\topo_plot_patient_v3p_v3p.png\n",
      "Topo-plot saved for patient v40p_v40p at TopoPlots\\topo_plot_patient_v40p_v40p.png\n",
      "Topo-plot saved for patient v41p_v41p at TopoPlots\\topo_plot_patient_v41p_v41p.png\n",
      "Topo-plot saved for patient v42p_v42p at TopoPlots\\topo_plot_patient_v42p_v42p.png\n",
      "Topo-plot saved for patient v43p_v43p at TopoPlots\\topo_plot_patient_v43p_v43p.png\n",
      "Topo-plot saved for patient v44p_v44p at TopoPlots\\topo_plot_patient_v44p_v44p.png\n",
      "Topo-plot saved for patient v45p_v45p at TopoPlots\\topo_plot_patient_v45p_v45p.png\n",
      "Topo-plot saved for patient v46p_v46p at TopoPlots\\topo_plot_patient_v46p_v46p.png\n",
      "Topo-plot saved for patient v47p_v47p at TopoPlots\\topo_plot_patient_v47p_v47p.png\n",
      "Topo-plot saved for patient v48p_v48p at TopoPlots\\topo_plot_patient_v48p_v48p.png\n",
      "Topo-plot saved for patient v49p_v49p at TopoPlots\\topo_plot_patient_v49p_v49p.png\n",
      "Topo-plot saved for patient v50p_v50p at TopoPlots\\topo_plot_patient_v50p_v50p.png\n",
      "Topo-plot saved for patient v51p_v51p at TopoPlots\\topo_plot_patient_v51p_v51p.png\n",
      "Topo-plot saved for patient v52p_v52p at TopoPlots\\topo_plot_patient_v52p_v52p.png\n",
      "Topo-plot saved for patient v53p_v53p at TopoPlots\\topo_plot_patient_v53p_v53p.png\n",
      "Topo-plot saved for patient v54p_v54p at TopoPlots\\topo_plot_patient_v54p_v54p.png\n",
      "Topo-plot saved for patient v55p_v55p at TopoPlots\\topo_plot_patient_v55p_v55p.png\n",
      "Topo-plot saved for patient v56p_v56p at TopoPlots\\topo_plot_patient_v56p_v56p.png\n",
      "Topo-plot saved for patient v57p_v57p at TopoPlots\\topo_plot_patient_v57p_v57p.png\n",
      "Topo-plot saved for patient v58p_v58p at TopoPlots\\topo_plot_patient_v58p_v58p.png\n",
      "Topo-plot saved for patient v59p_v59p at TopoPlots\\topo_plot_patient_v59p_v59p.png\n",
      "Topo-plot saved for patient v60p_v60p at TopoPlots\\topo_plot_patient_v60p_v60p.png\n",
      "Topo-plot saved for patient v6p_v6p at TopoPlots\\topo_plot_patient_v6p_v6p.png\n",
      "Topo-plot saved for patient v8p_v8p at TopoPlots\\topo_plot_patient_v8p_v8p.png\n"
     ]
    },
    {
     "data": {
      "text/plain": [
       "<Figure size 1200x1000 with 0 Axes>"
      ]
     },
     "metadata": {},
     "output_type": "display_data"
    },
    {
     "data": {
      "text/plain": [
       "<Figure size 1200x1000 with 0 Axes>"
      ]
     },
     "metadata": {},
     "output_type": "display_data"
    },
    {
     "data": {
      "text/plain": [
       "<Figure size 1200x1000 with 0 Axes>"
      ]
     },
     "metadata": {},
     "output_type": "display_data"
    },
    {
     "data": {
      "text/plain": [
       "<Figure size 1200x1000 with 0 Axes>"
      ]
     },
     "metadata": {},
     "output_type": "display_data"
    },
    {
     "data": {
      "text/plain": [
       "<Figure size 1200x1000 with 0 Axes>"
      ]
     },
     "metadata": {},
     "output_type": "display_data"
    },
    {
     "data": {
      "text/plain": [
       "<Figure size 1200x1000 with 0 Axes>"
      ]
     },
     "metadata": {},
     "output_type": "display_data"
    },
    {
     "data": {
      "text/plain": [
       "<Figure size 1200x1000 with 0 Axes>"
      ]
     },
     "metadata": {},
     "output_type": "display_data"
    },
    {
     "data": {
      "text/plain": [
       "<Figure size 1200x1000 with 0 Axes>"
      ]
     },
     "metadata": {},
     "output_type": "display_data"
    },
    {
     "data": {
      "text/plain": [
       "<Figure size 1200x1000 with 0 Axes>"
      ]
     },
     "metadata": {},
     "output_type": "display_data"
    },
    {
     "data": {
      "text/plain": [
       "<Figure size 1200x1000 with 0 Axes>"
      ]
     },
     "metadata": {},
     "output_type": "display_data"
    },
    {
     "data": {
      "text/plain": [
       "<Figure size 1200x1000 with 0 Axes>"
      ]
     },
     "metadata": {},
     "output_type": "display_data"
    },
    {
     "data": {
      "text/plain": [
       "<Figure size 1200x1000 with 0 Axes>"
      ]
     },
     "metadata": {},
     "output_type": "display_data"
    },
    {
     "data": {
      "text/plain": [
       "<Figure size 1200x1000 with 0 Axes>"
      ]
     },
     "metadata": {},
     "output_type": "display_data"
    },
    {
     "data": {
      "text/plain": [
       "<Figure size 1200x1000 with 0 Axes>"
      ]
     },
     "metadata": {},
     "output_type": "display_data"
    },
    {
     "data": {
      "text/plain": [
       "<Figure size 1200x1000 with 0 Axes>"
      ]
     },
     "metadata": {},
     "output_type": "display_data"
    },
    {
     "data": {
      "text/plain": [
       "<Figure size 1200x1000 with 0 Axes>"
      ]
     },
     "metadata": {},
     "output_type": "display_data"
    },
    {
     "data": {
      "text/plain": [
       "<Figure size 1200x1000 with 0 Axes>"
      ]
     },
     "metadata": {},
     "output_type": "display_data"
    },
    {
     "data": {
      "text/plain": [
       "<Figure size 1200x1000 with 0 Axes>"
      ]
     },
     "metadata": {},
     "output_type": "display_data"
    },
    {
     "data": {
      "text/plain": [
       "<Figure size 1200x1000 with 0 Axes>"
      ]
     },
     "metadata": {},
     "output_type": "display_data"
    },
    {
     "data": {
      "text/plain": [
       "<Figure size 1200x1000 with 0 Axes>"
      ]
     },
     "metadata": {},
     "output_type": "display_data"
    },
    {
     "data": {
      "text/plain": [
       "<Figure size 1200x1000 with 0 Axes>"
      ]
     },
     "metadata": {},
     "output_type": "display_data"
    },
    {
     "data": {
      "text/plain": [
       "<Figure size 1200x1000 with 0 Axes>"
      ]
     },
     "metadata": {},
     "output_type": "display_data"
    },
    {
     "data": {
      "text/plain": [
       "<Figure size 1200x1000 with 0 Axes>"
      ]
     },
     "metadata": {},
     "output_type": "display_data"
    },
    {
     "data": {
      "text/plain": [
       "<Figure size 1200x1000 with 0 Axes>"
      ]
     },
     "metadata": {},
     "output_type": "display_data"
    },
    {
     "data": {
      "text/plain": [
       "<Figure size 1200x1000 with 0 Axes>"
      ]
     },
     "metadata": {},
     "output_type": "display_data"
    },
    {
     "data": {
      "text/plain": [
       "<Figure size 1200x1000 with 0 Axes>"
      ]
     },
     "metadata": {},
     "output_type": "display_data"
    },
    {
     "data": {
      "text/plain": [
       "<Figure size 1200x1000 with 0 Axes>"
      ]
     },
     "metadata": {},
     "output_type": "display_data"
    },
    {
     "data": {
      "text/plain": [
       "<Figure size 1200x1000 with 0 Axes>"
      ]
     },
     "metadata": {},
     "output_type": "display_data"
    },
    {
     "data": {
      "text/plain": [
       "<Figure size 1200x1000 with 0 Axes>"
      ]
     },
     "metadata": {},
     "output_type": "display_data"
    },
    {
     "data": {
      "text/plain": [
       "<Figure size 1200x1000 with 0 Axes>"
      ]
     },
     "metadata": {},
     "output_type": "display_data"
    },
    {
     "data": {
      "text/plain": [
       "<Figure size 1200x1000 with 0 Axes>"
      ]
     },
     "metadata": {},
     "output_type": "display_data"
    },
    {
     "data": {
      "text/plain": [
       "<Figure size 1200x1000 with 0 Axes>"
      ]
     },
     "metadata": {},
     "output_type": "display_data"
    },
    {
     "data": {
      "text/plain": [
       "<Figure size 1200x1000 with 0 Axes>"
      ]
     },
     "metadata": {},
     "output_type": "display_data"
    },
    {
     "data": {
      "text/plain": [
       "<Figure size 1200x1000 with 0 Axes>"
      ]
     },
     "metadata": {},
     "output_type": "display_data"
    },
    {
     "data": {
      "text/plain": [
       "<Figure size 1200x1000 with 0 Axes>"
      ]
     },
     "metadata": {},
     "output_type": "display_data"
    },
    {
     "data": {
      "text/plain": [
       "<Figure size 1200x1000 with 0 Axes>"
      ]
     },
     "metadata": {},
     "output_type": "display_data"
    },
    {
     "data": {
      "text/plain": [
       "<Figure size 1200x1000 with 0 Axes>"
      ]
     },
     "metadata": {},
     "output_type": "display_data"
    },
    {
     "data": {
      "text/plain": [
       "<Figure size 1200x1000 with 0 Axes>"
      ]
     },
     "metadata": {},
     "output_type": "display_data"
    },
    {
     "data": {
      "text/plain": [
       "<Figure size 1200x1000 with 0 Axes>"
      ]
     },
     "metadata": {},
     "output_type": "display_data"
    },
    {
     "data": {
      "text/plain": [
       "<Figure size 1200x1000 with 0 Axes>"
      ]
     },
     "metadata": {},
     "output_type": "display_data"
    },
    {
     "data": {
      "text/plain": [
       "<Figure size 1200x1000 with 0 Axes>"
      ]
     },
     "metadata": {},
     "output_type": "display_data"
    },
    {
     "data": {
      "text/plain": [
       "<Figure size 1200x1000 with 0 Axes>"
      ]
     },
     "metadata": {},
     "output_type": "display_data"
    },
    {
     "data": {
      "text/plain": [
       "<Figure size 1200x1000 with 0 Axes>"
      ]
     },
     "metadata": {},
     "output_type": "display_data"
    },
    {
     "data": {
      "text/plain": [
       "<Figure size 1200x1000 with 0 Axes>"
      ]
     },
     "metadata": {},
     "output_type": "display_data"
    },
    {
     "data": {
      "text/plain": [
       "<Figure size 1200x1000 with 0 Axes>"
      ]
     },
     "metadata": {},
     "output_type": "display_data"
    },
    {
     "data": {
      "text/plain": [
       "<Figure size 1200x1000 with 0 Axes>"
      ]
     },
     "metadata": {},
     "output_type": "display_data"
    },
    {
     "data": {
      "text/plain": [
       "<Figure size 1200x1000 with 0 Axes>"
      ]
     },
     "metadata": {},
     "output_type": "display_data"
    },
    {
     "data": {
      "text/plain": [
       "<Figure size 1200x1000 with 0 Axes>"
      ]
     },
     "metadata": {},
     "output_type": "display_data"
    },
    {
     "data": {
      "text/plain": [
       "<Figure size 1200x1000 with 0 Axes>"
      ]
     },
     "metadata": {},
     "output_type": "display_data"
    },
    {
     "data": {
      "text/plain": [
       "<Figure size 1200x1000 with 0 Axes>"
      ]
     },
     "metadata": {},
     "output_type": "display_data"
    },
    {
     "data": {
      "text/plain": [
       "<Figure size 1200x1000 with 0 Axes>"
      ]
     },
     "metadata": {},
     "output_type": "display_data"
    },
    {
     "data": {
      "text/plain": [
       "<Figure size 1200x1000 with 0 Axes>"
      ]
     },
     "metadata": {},
     "output_type": "display_data"
    },
    {
     "data": {
      "text/plain": [
       "<Figure size 1200x1000 with 0 Axes>"
      ]
     },
     "metadata": {},
     "output_type": "display_data"
    },
    {
     "data": {
      "text/plain": [
       "<Figure size 1200x1000 with 0 Axes>"
      ]
     },
     "metadata": {},
     "output_type": "display_data"
    },
    {
     "data": {
      "text/plain": [
       "<Figure size 1200x1000 with 0 Axes>"
      ]
     },
     "metadata": {},
     "output_type": "display_data"
    },
    {
     "data": {
      "text/plain": [
       "<Figure size 1200x1000 with 0 Axes>"
      ]
     },
     "metadata": {},
     "output_type": "display_data"
    },
    {
     "data": {
      "text/plain": [
       "<Figure size 1200x1000 with 0 Axes>"
      ]
     },
     "metadata": {},
     "output_type": "display_data"
    },
    {
     "data": {
      "text/plain": [
       "<Figure size 1200x1000 with 0 Axes>"
      ]
     },
     "metadata": {},
     "output_type": "display_data"
    },
    {
     "data": {
      "text/plain": [
       "<Figure size 1200x1000 with 0 Axes>"
      ]
     },
     "metadata": {},
     "output_type": "display_data"
    },
    {
     "data": {
      "text/plain": [
       "<Figure size 1200x1000 with 0 Axes>"
      ]
     },
     "metadata": {},
     "output_type": "display_data"
    },
    {
     "data": {
      "text/plain": [
       "<Figure size 1200x1000 with 0 Axes>"
      ]
     },
     "metadata": {},
     "output_type": "display_data"
    },
    {
     "data": {
      "text/plain": [
       "<Figure size 1200x1000 with 0 Axes>"
      ]
     },
     "metadata": {},
     "output_type": "display_data"
    },
    {
     "data": {
      "text/plain": [
       "<Figure size 1200x1000 with 0 Axes>"
      ]
     },
     "metadata": {},
     "output_type": "display_data"
    },
    {
     "data": {
      "text/plain": [
       "<Figure size 1200x1000 with 0 Axes>"
      ]
     },
     "metadata": {},
     "output_type": "display_data"
    },
    {
     "data": {
      "text/plain": [
       "<Figure size 1200x1000 with 0 Axes>"
      ]
     },
     "metadata": {},
     "output_type": "display_data"
    },
    {
     "data": {
      "text/plain": [
       "<Figure size 1200x1000 with 0 Axes>"
      ]
     },
     "metadata": {},
     "output_type": "display_data"
    },
    {
     "data": {
      "text/plain": [
       "<Figure size 1200x1000 with 0 Axes>"
      ]
     },
     "metadata": {},
     "output_type": "display_data"
    },
    {
     "data": {
      "text/plain": [
       "<Figure size 1200x1000 with 0 Axes>"
      ]
     },
     "metadata": {},
     "output_type": "display_data"
    },
    {
     "data": {
      "text/plain": [
       "<Figure size 1200x1000 with 0 Axes>"
      ]
     },
     "metadata": {},
     "output_type": "display_data"
    },
    {
     "data": {
      "text/plain": [
       "<Figure size 1200x1000 with 0 Axes>"
      ]
     },
     "metadata": {},
     "output_type": "display_data"
    },
    {
     "data": {
      "text/plain": [
       "<Figure size 1200x1000 with 0 Axes>"
      ]
     },
     "metadata": {},
     "output_type": "display_data"
    },
    {
     "data": {
      "text/plain": [
       "<Figure size 1200x1000 with 0 Axes>"
      ]
     },
     "metadata": {},
     "output_type": "display_data"
    },
    {
     "data": {
      "text/plain": [
       "<Figure size 1200x1000 with 0 Axes>"
      ]
     },
     "metadata": {},
     "output_type": "display_data"
    },
    {
     "data": {
      "text/plain": [
       "<Figure size 1200x1000 with 0 Axes>"
      ]
     },
     "metadata": {},
     "output_type": "display_data"
    },
    {
     "data": {
      "text/plain": [
       "<Figure size 1200x1000 with 0 Axes>"
      ]
     },
     "metadata": {},
     "output_type": "display_data"
    },
    {
     "data": {
      "text/plain": [
       "<Figure size 1200x1000 with 0 Axes>"
      ]
     },
     "metadata": {},
     "output_type": "display_data"
    },
    {
     "data": {
      "text/plain": [
       "<Figure size 1200x1000 with 0 Axes>"
      ]
     },
     "metadata": {},
     "output_type": "display_data"
    },
    {
     "data": {
      "text/plain": [
       "<Figure size 1200x1000 with 0 Axes>"
      ]
     },
     "metadata": {},
     "output_type": "display_data"
    },
    {
     "data": {
      "text/plain": [
       "<Figure size 1200x1000 with 0 Axes>"
      ]
     },
     "metadata": {},
     "output_type": "display_data"
    },
    {
     "data": {
      "text/plain": [
       "<Figure size 1200x1000 with 0 Axes>"
      ]
     },
     "metadata": {},
     "output_type": "display_data"
    },
    {
     "data": {
      "text/plain": [
       "<Figure size 1200x1000 with 0 Axes>"
      ]
     },
     "metadata": {},
     "output_type": "display_data"
    },
    {
     "data": {
      "text/plain": [
       "<Figure size 1200x1000 with 0 Axes>"
      ]
     },
     "metadata": {},
     "output_type": "display_data"
    },
    {
     "data": {
      "text/plain": [
       "<Figure size 1200x1000 with 0 Axes>"
      ]
     },
     "metadata": {},
     "output_type": "display_data"
    },
    {
     "data": {
      "text/plain": [
       "<Figure size 1200x1000 with 0 Axes>"
      ]
     },
     "metadata": {},
     "output_type": "display_data"
    },
    {
     "data": {
      "text/plain": [
       "<Figure size 1200x1000 with 0 Axes>"
      ]
     },
     "metadata": {},
     "output_type": "display_data"
    },
    {
     "data": {
      "text/plain": [
       "<Figure size 1200x1000 with 0 Axes>"
      ]
     },
     "metadata": {},
     "output_type": "display_data"
    },
    {
     "data": {
      "text/plain": [
       "<Figure size 1200x1000 with 0 Axes>"
      ]
     },
     "metadata": {},
     "output_type": "display_data"
    },
    {
     "data": {
      "text/plain": [
       "<Figure size 1200x1000 with 0 Axes>"
      ]
     },
     "metadata": {},
     "output_type": "display_data"
    },
    {
     "data": {
      "text/plain": [
       "<Figure size 1200x1000 with 0 Axes>"
      ]
     },
     "metadata": {},
     "output_type": "display_data"
    },
    {
     "data": {
      "text/plain": [
       "<Figure size 1200x1000 with 0 Axes>"
      ]
     },
     "metadata": {},
     "output_type": "display_data"
    },
    {
     "data": {
      "text/plain": [
       "<Figure size 1200x1000 with 0 Axes>"
      ]
     },
     "metadata": {},
     "output_type": "display_data"
    },
    {
     "data": {
      "text/plain": [
       "<Figure size 1200x1000 with 0 Axes>"
      ]
     },
     "metadata": {},
     "output_type": "display_data"
    },
    {
     "data": {
      "text/plain": [
       "<Figure size 1200x1000 with 0 Axes>"
      ]
     },
     "metadata": {},
     "output_type": "display_data"
    },
    {
     "data": {
      "text/plain": [
       "<Figure size 1200x1000 with 0 Axes>"
      ]
     },
     "metadata": {},
     "output_type": "display_data"
    },
    {
     "data": {
      "text/plain": [
       "<Figure size 1200x1000 with 0 Axes>"
      ]
     },
     "metadata": {},
     "output_type": "display_data"
    },
    {
     "data": {
      "text/plain": [
       "<Figure size 1200x1000 with 0 Axes>"
      ]
     },
     "metadata": {},
     "output_type": "display_data"
    },
    {
     "data": {
      "text/plain": [
       "<Figure size 1200x1000 with 0 Axes>"
      ]
     },
     "metadata": {},
     "output_type": "display_data"
    },
    {
     "data": {
      "text/plain": [
       "<Figure size 1200x1000 with 0 Axes>"
      ]
     },
     "metadata": {},
     "output_type": "display_data"
    },
    {
     "data": {
      "text/plain": [
       "<Figure size 1200x1000 with 0 Axes>"
      ]
     },
     "metadata": {},
     "output_type": "display_data"
    },
    {
     "data": {
      "text/plain": [
       "<Figure size 1200x1000 with 0 Axes>"
      ]
     },
     "metadata": {},
     "output_type": "display_data"
    },
    {
     "data": {
      "text/plain": [
       "<Figure size 1200x1000 with 0 Axes>"
      ]
     },
     "metadata": {},
     "output_type": "display_data"
    },
    {
     "data": {
      "text/plain": [
       "<Figure size 1200x1000 with 0 Axes>"
      ]
     },
     "metadata": {},
     "output_type": "display_data"
    },
    {
     "data": {
      "text/plain": [
       "<Figure size 1200x1000 with 0 Axes>"
      ]
     },
     "metadata": {},
     "output_type": "display_data"
    },
    {
     "data": {
      "text/plain": [
       "<Figure size 1200x1000 with 0 Axes>"
      ]
     },
     "metadata": {},
     "output_type": "display_data"
    },
    {
     "data": {
      "text/plain": [
       "<Figure size 1200x1000 with 0 Axes>"
      ]
     },
     "metadata": {},
     "output_type": "display_data"
    },
    {
     "data": {
      "text/plain": [
       "<Figure size 1200x1000 with 0 Axes>"
      ]
     },
     "metadata": {},
     "output_type": "display_data"
    },
    {
     "data": {
      "text/plain": [
       "<Figure size 1200x1000 with 0 Axes>"
      ]
     },
     "metadata": {},
     "output_type": "display_data"
    },
    {
     "data": {
      "text/plain": [
       "<Figure size 1200x1000 with 0 Axes>"
      ]
     },
     "metadata": {},
     "output_type": "display_data"
    },
    {
     "data": {
      "text/plain": [
       "<Figure size 1200x1000 with 0 Axes>"
      ]
     },
     "metadata": {},
     "output_type": "display_data"
    },
    {
     "data": {
      "text/plain": [
       "<Figure size 1200x1000 with 0 Axes>"
      ]
     },
     "metadata": {},
     "output_type": "display_data"
    },
    {
     "data": {
      "text/plain": [
       "<Figure size 1200x1000 with 0 Axes>"
      ]
     },
     "metadata": {},
     "output_type": "display_data"
    },
    {
     "data": {
      "text/plain": [
       "<Figure size 1200x1000 with 0 Axes>"
      ]
     },
     "metadata": {},
     "output_type": "display_data"
    },
    {
     "data": {
      "text/plain": [
       "<Figure size 1200x1000 with 0 Axes>"
      ]
     },
     "metadata": {},
     "output_type": "display_data"
    },
    {
     "data": {
      "text/plain": [
       "<Figure size 1200x1000 with 0 Axes>"
      ]
     },
     "metadata": {},
     "output_type": "display_data"
    },
    {
     "data": {
      "text/plain": [
       "<Figure size 1200x1000 with 0 Axes>"
      ]
     },
     "metadata": {},
     "output_type": "display_data"
    },
    {
     "data": {
      "text/plain": [
       "<Figure size 1200x1000 with 0 Axes>"
      ]
     },
     "metadata": {},
     "output_type": "display_data"
    },
    {
     "data": {
      "text/plain": [
       "<Figure size 1200x1000 with 0 Axes>"
      ]
     },
     "metadata": {},
     "output_type": "display_data"
    },
    {
     "data": {
      "text/plain": [
       "<Figure size 1200x1000 with 0 Axes>"
      ]
     },
     "metadata": {},
     "output_type": "display_data"
    },
    {
     "data": {
      "text/plain": [
       "<Figure size 1200x1000 with 0 Axes>"
      ]
     },
     "metadata": {},
     "output_type": "display_data"
    },
    {
     "data": {
      "text/plain": [
       "<Figure size 1200x1000 with 0 Axes>"
      ]
     },
     "metadata": {},
     "output_type": "display_data"
    },
    {
     "data": {
      "text/plain": [
       "<Figure size 1200x1000 with 0 Axes>"
      ]
     },
     "metadata": {},
     "output_type": "display_data"
    }
   ],
   "source": [
    "if __name__ == \"__main__\":\n",
    "    # Path to the combined entropy CSV file\n",
    "    combined_entropy_file = 'combined_entropy_with_class.csv'\n",
    "    \n",
    "    # Output directory for saving topo-plot images\n",
    "    output_directory = 'TopoPlots'\n",
    "    \n",
    "    # Plot topo-plots for all patients\n",
    "    plot_topo_for_all_patients(combined_entropy_file, output_directory)\n"
   ]
  }
 ],
 "metadata": {
  "kernelspec": {
   "display_name": "base",
   "language": "python",
   "name": "python3"
  },
  "language_info": {
   "codemirror_mode": {
    "name": "ipython",
    "version": 3
   },
   "file_extension": ".py",
   "mimetype": "text/x-python",
   "name": "python",
   "nbconvert_exporter": "python",
   "pygments_lexer": "ipython3",
   "version": "3.12.3"
  }
 },
 "nbformat": 4,
 "nbformat_minor": 2
}
